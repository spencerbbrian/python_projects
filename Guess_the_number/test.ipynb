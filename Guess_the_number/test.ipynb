{
 "cells": [
  {
   "cell_type": "code",
   "execution_count": 4,
   "metadata": {},
   "outputs": [],
   "source": [
    "\n",
    "actual_number = (0,1,2,3,4,5,6,7,8,9,10)\n",
    "guess = input(\"Please guess a number from 0 to 10: \\n\")\n",
    "if guess in actual_number:\n",
    "    print(guess)"
   ]
  }
 ],
 "metadata": {
  "kernelspec": {
   "display_name": "Python 3.9.7 64-bit",
   "language": "python",
   "name": "python3"
  },
  "language_info": {
   "codemirror_mode": {
    "name": "ipython",
    "version": 3
   },
   "file_extension": ".py",
   "mimetype": "text/x-python",
   "name": "python",
   "nbconvert_exporter": "python",
   "pygments_lexer": "ipython3",
   "version": "3.9.7"
  },
  "orig_nbformat": 4,
  "vscode": {
   "interpreter": {
    "hash": "a4a5264c13f6e79f099eb984f19020809543d70fb0e0d06da01655dcd6a0d789"
   }
  }
 },
 "nbformat": 4,
 "nbformat_minor": 2
}
